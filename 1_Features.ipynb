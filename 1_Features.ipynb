{
 "cells": [
  {
   "cell_type": "markdown",
   "metadata": {},
   "source": [
    "# **Notebook para Tesis**\n",
    "\n",
    "Aqui hare el analisis y seleccion de caracteristicas"
   ]
  },
  {
   "cell_type": "code",
   "execution_count": null,
   "metadata": {},
   "outputs": [],
   "source": [
    "# Importar librerias necesarias\n",
    "\n",
    "# import os\n",
    "import pandas as pd\n",
    "import numpy as np\n",
    "import matplotlib.pyplot as plt\n",
    "\n",
    "# Interpolación\n",
    "from scipy.interpolate import PchipInterpolator\n",
    "\n",
    "from scipy.fft import fft, fftfreq\n",
    "import pywt\n",
    "from sklearn.decomposition import PCA"
   ]
  },
  {
   "cell_type": "markdown",
   "metadata": {},
   "source": [
    "## **Lectura de Archivos**"
   ]
  },
  {
   "cell_type": "markdown",
   "metadata": {},
   "source": [
    "### **Lectura Invididual**"
   ]
  },
  {
   "cell_type": "code",
   "execution_count": 26,
   "metadata": {},
   "outputs": [],
   "source": [
    "folder = \"/home/agustin/Documentos/Tesis/datos/40mhz/\"\n",
    "data_file = \"brc-2002_086400-02-output.csv.gz\"\n",
    "label_file = \"brc-2002_086400-02-output_true_labels.csv.gz\"\n",
    "\n",
    "data = pd.read_csv(folder + data_file, compression='gzip')\n",
    "labels = pd.read_csv(folder + label_file, compression='gzip')"
   ]
  },
  {
   "cell_type": "markdown",
   "metadata": {},
   "source": [
    "### **Lectura Total**"
   ]
  },
  {
   "cell_type": "code",
   "execution_count": 27,
   "metadata": {},
   "outputs": [],
   "source": [
    "# folder = \"/home/agustindelgado/Descargas/40mhz-20240520T175512Z-001/40mhz/\"\n",
    "\n",
    "# all_files = os.listdir(folder)\n",
    "# data_files = [f for f in all_files if f.endswith(\"-output.csv.gz\")]\n",
    "# label_files = [f for f in all_files if f.endswith(\"-output_true_labels.csv.gz\")]\n",
    "\n",
    "# data_frames = []\n",
    "# label_frames = []\n",
    "\n",
    "# for data_file, label_file in zip(data_files, label_files):\n",
    "#     data_frames.append(pd.read_csv(folder + data_file, compression='gzip'))\n",
    "#     label_frames.append(pd.read_csv(folder + label_file, compression='gzip'))\n",
    "\n",
    "# data = pd.concat(data_frames)\n",
    "# labels = pd.concat(label_frames)\n",
    "\n",
    "# print(data.shape)\n",
    "# print(labels.shape)"
   ]
  },
  {
   "cell_type": "markdown",
   "metadata": {},
   "source": [
    "### **Muestreo de Datos**"
   ]
  },
  {
   "cell_type": "code",
   "execution_count": 28,
   "metadata": {},
   "outputs": [
    {
     "name": "stdout",
     "output_type": "stream",
     "text": [
      "   Unnamed: 0  s_0  s_1  s_2  s_3  s_4  s_5  s_6  s_7  s_8  s_9  s_10  s_11  \\\n",
      "0          14    5    1    3    0    2    0    0    0    0    0     0     0   \n",
      "1          26    0    1    0    0    0    0    0    0    0    0     0     0   \n",
      "2          30   54   34   29   12    2    2    1    3    3    0     0     0   \n",
      "3          31   11   10    7    6    2    0    2    0    0    0     0     0   \n",
      "4          43   33   29   13    7    6    1    0    2    1    0     0     0   \n",
      "\n",
      "   s_12  s_13  s_14  s_15  \n",
      "0     0     0     0     0  \n",
      "1     0     0     0     0  \n",
      "2     0     0     0     0  \n",
      "3     0     0     0     0  \n",
      "4     0     0     0     0  \n"
     ]
    }
   ],
   "source": [
    "# Muestro los datos\n",
    "print(data.head())"
   ]
  },
  {
   "cell_type": "markdown",
   "metadata": {},
   "source": [
    "## **Interpolación**"
   ]
  },
  {
   "cell_type": "code",
   "execution_count": 29,
   "metadata": {},
   "outputs": [
    {
     "data": {
      "image/png": "[encoded data removed]",
      "text/plain": [
       "<Figure size 640x480 with 1 Axes>"
      ]
     },
     "metadata": {},
     "output_type": "display_data"
    }
   ],
   "source": [
    "test = data.iloc[10, 1:].values # Tomo la segunda fila de data\n",
    "\n",
    "x = np.arange(1, len(test)+1) \n",
    "y = test \n",
    "\n",
    "mask = ~np.isnan(y) # Máscara para quitar los valores NaN\n",
    "\n",
    "# cs = CubicSpline(x[mask], y[mask]) \n",
    "p = PchipInterpolator(x[mask], y[mask]) \n",
    "xnew = np.linspace(1, len(test), num=1000)\n",
    "\n",
    "plt.plot(x, y, 'o', label='Datos originales') \n",
    "# plt.plot(xnew, cs(xnew), '-', label='Datos interpolados (Spline Cúbico)') #Conecta los puntos pero desvia de ellos un poco \n",
    "plt.plot(xnew, p(xnew), '--', label='Datos interpolados (Pchip)') #Conecta los puntos de manera suave\n",
    "plt.legend()\n",
    "plt.show()"
   ]
  },
  {
   "cell_type": "markdown",
   "metadata": {},
   "source": [
    "## **Features**"
   ]
  },
  {
   "cell_type": "markdown",
   "metadata": {},
   "source": [
    "#### Amplitud"
   ]
  },
  {
   "cell_type": "code",
   "execution_count": 30,
   "metadata": {},
   "outputs": [],
   "source": [
    "def amplitude(data):\n",
    "    return np.max(data) - np.min(data)"
   ]
  },
  {
   "cell_type": "markdown",
   "metadata": {},
   "source": [
    "#### Ancho de Pulso"
   ]
  },
  {
   "cell_type": "code",
   "execution_count": 31,
   "metadata": {},
   "outputs": [],
   "source": [
    "def width(data, threshold=0.5):\n",
    "    max_val = np.max(data)\n",
    "    min_val = np.min(data)\n",
    "    half_val = min_val + threshold * (max_val - min_val)\n",
    "    \n",
    "    # Find indices where data crosses the threshold\n",
    "    above_threshold = np.where(data > half_val)[0]\n",
    "    \n",
    "    if len(above_threshold) == 0:\n",
    "        return 0  # No points above threshold\n",
    "    \n",
    "    # Calculate width as the difference between the first and last index\n",
    "    pulse_width = above_threshold[-1] - above_threshold[0]\n",
    "    \n",
    "    return pulse_width"
   ]
  },
  {
   "cell_type": "markdown",
   "metadata": {},
   "source": [
    "#### Tiempo de Ascenso y Descenso"
   ]
  },
  {
   "cell_type": "code",
   "execution_count": 32,
   "metadata": {},
   "outputs": [],
   "source": [
    "def rise_time(data, lower_threshold=0.15, upper_threshold=0.9):\n",
    "    max_val = np.max(data)\n",
    "    amplitude_10 = lower_threshold * max_val\n",
    "    amplitude_90 = upper_threshold * max_val\n",
    "\n",
    "    start_rise_index = np.argmax(data > amplitude_10)\n",
    "    end_rise_index = np.argmax(data > amplitude_90)\n",
    "\n",
    "    rise_time = end_rise_index - start_rise_index\n",
    "    \n",
    "    return rise_time, start_rise_index, end_rise_index\n",
    "\n",
    "def fall_time(data, lower_threshold=0.15, upper_threshold=0.9):\n",
    "    max_val = np.max(data)\n",
    "    amplitude_10 = lower_threshold * max_val\n",
    "    amplitude_90 = upper_threshold * max_val\n",
    "\n",
    "    start_fall_index = len(data) - np.argmax(data[::-1] > amplitude_90) - 1  # Inicio del descenso (90%)\n",
    "    end_fall_index = len(data) - np.argmax(data[::-1] > amplitude_10) - 1\n",
    "\n",
    "    fall_time = end_fall_index - start_fall_index\n",
    "    \n",
    "    return fall_time, start_fall_index, end_fall_index"
   ]
  },
  {
   "cell_type": "markdown",
   "metadata": {},
   "source": [
    "#### Área debajo del pulso\n"
   ]
  },
  {
   "cell_type": "code",
   "execution_count": 33,
   "metadata": {},
   "outputs": [],
   "source": [
    "def area_under_pulse(x, y):\n",
    "    return np.trapezoid(y, x)"
   ]
  },
  {
   "cell_type": "markdown",
   "metadata": {},
   "source": [
    "#### Pendiente del Borde Ascendente y Descendente"
   ]
  },
  {
   "cell_type": "code",
   "execution_count": 34,
   "metadata": {},
   "outputs": [],
   "source": [
    "def ascending_slope(x, y, start_index, end_index):\n",
    "    dy = np.gradient(y, x)\n",
    "    max_slope_index = np.argmax(dy[start_index:end_index+1])\n",
    "    return dy[start_index + max_slope_index]\n",
    "\n",
    "def descending_slope(x, y, start_index, end_index):\n",
    "    dy = np.gradient(y, x)\n",
    "    min_slope_index = np.argmin(dy[start_index:end_index+1])\n",
    "    return dy[start_index + min_slope_index]"
   ]
  },
  {
   "cell_type": "markdown",
   "metadata": {},
   "source": [
    "#### Simetria del Pulso"
   ]
  },
  {
   "cell_type": "code",
   "execution_count": 35,
   "metadata": {},
   "outputs": [],
   "source": [
    "def pulse_symmetry(data, start_rise_index, end_rise_index, start_fall_index, end_fall_index):\n",
    "    rise_time = end_rise_index - start_rise_index\n",
    "    fall_time = end_fall_index - start_fall_index\n",
    "    symmetry = rise_time / fall_time if fall_time != 0 else np.nan\n",
    "    return symmetry"
   ]
  },
  {
   "cell_type": "markdown",
   "metadata": {},
   "source": [
    "#### Energia del Pulso"
   ]
  },
  {
   "cell_type": "code",
   "execution_count": 36,
   "metadata": {},
   "outputs": [],
   "source": [
    "def pulse_energy(x, y):\n",
    "    return np.trapezoid(y**2, x)"
   ]
  },
  {
   "cell_type": "markdown",
   "metadata": {},
   "source": [
    "#### Acnho de banda"
   ]
  },
  {
   "cell_type": "code",
   "execution_count": 37,
   "metadata": {},
   "outputs": [],
   "source": [
    "def calculate_bandwidth(x, y, threshold_factor=0.1):\n",
    "\n",
    "    # Perform FFT\n",
    "    N = len(y)\n",
    "    T = x[1] - x[0]  # Sampling interval\n",
    "    yf = fft(y)\n",
    "    xf = fftfreq(N, T)[:N//2]\n",
    "\n",
    "    # Calculate power spectrum\n",
    "    power_spectrum = 2.0/N * np.abs(yf[:N//2])\n",
    "\n",
    "    # Define a threshold to determine significant frequencies\n",
    "    threshold = threshold_factor * np.max(power_spectrum)\n",
    "\n",
    "    # Find the bandwidth\n",
    "    significant_freqs = xf[power_spectrum > threshold]\n",
    "    bandwidth = significant_freqs[-1] - significant_freqs[0]\n",
    "\n",
    "    return bandwidth, significant_freqs, power_spectrum, xf, yf\n",
    "\n",
    "# # Calculate bandwidth for interpolated data\n",
    "# bandwidth_interp, significant_freqs, power_spectrum, xf, yf = calculate_bandwidth(xnew, p(xnew))\n",
    "# print(f\"Bandwidth (Interpolated Data): {bandwidth_interp} Hz\")\n",
    "\n",
    "# # Plot the power spectrum\n",
    "# plt.plot(xf, power_spectrum)\n",
    "# plt.xlabel(\"Frequency (Hz)\")\n",
    "# plt.ylabel(\"Power\")\n",
    "# plt.title(\"Power Spectrum\")\n",
    "# #plot bandwith\n",
    "# plt.axvline(significant_freqs[0], color='r', linestyle='--')\n",
    "# plt.axvline(significant_freqs[-1], color='r', linestyle='--')\n",
    "# plt.show()\n"
   ]
  },
  {
   "cell_type": "markdown",
   "metadata": {},
   "source": [
    "### Calculo de todas las caracteristicas"
   ]
  },
  {
   "cell_type": "code",
   "execution_count": 38,
   "metadata": {},
   "outputs": [
    {
     "name": "stdout",
     "output_type": "stream",
     "text": [
      "Amplitud de Onda: 0.9999188377566756\n",
      "Ancho del Pulso: 98\n",
      "Tiempo de Ascenso: 40\n",
      "Tiempo de Descenso: 37\n",
      "Área debajo del pulso: 1.1666289824161191\n",
      "Pendiente del Borde Ascendente: 1.8198198198198199\n",
      "Pendiente del Borde Descendente: -1.4995355716076482\n",
      "Energía del Pulso: 0.904762010207916\n",
      "Simetría del Pulso: 1.0810810810810811\n",
      "Ancho de Banda: 0.6660000000000001\n"
     ]
    },
    {
     "data": {
      "image/png": "[encoded data removed]",
      "text/plain": [
       "<Figure size 640x480 with 1 Axes>"
      ]
     },
     "metadata": {},
     "output_type": "display_data"
    }
   ],
   "source": [
    "# Calcular todas las características\n",
    "amplitude_value = amplitude(p(xnew))\n",
    "width_value = width(p(xnew), 0.3)\n",
    "rise_time_value, start_rise_index, end_rise_index = rise_time(p(xnew))\n",
    "fall_time_value, start_fall_index, end_fall_index = fall_time(p(xnew))\n",
    "area_value = area_under_pulse(xnew, p(xnew))\n",
    "asc_slope = ascending_slope(xnew, p(xnew), start_rise_index, end_rise_index)\n",
    "desc_slope = descending_slope(xnew, p(xnew), start_fall_index, end_fall_index)\n",
    "energy = pulse_energy(xnew, p(xnew))\n",
    "symmetry = pulse_symmetry(p(xnew), start_rise_index, end_rise_index, start_fall_index, end_fall_index)\n",
    "bandwidth, significant_freqs, power_spectrum, xf, yf = calculate_bandwidth(xnew, p(xnew))\n",
    "\n",
    "# Mostrar los resultados\n",
    "print(f\"Amplitud de Onda: {amplitude_value}\")\n",
    "print(f\"Ancho del Pulso: {width_value}\")\n",
    "print(f\"Tiempo de Ascenso: {rise_time_value}\")\n",
    "print(f\"Tiempo de Descenso: {fall_time_value}\")\n",
    "print(f\"Área debajo del pulso: {area_value}\")\n",
    "print(f\"Pendiente del Borde Ascendente: {asc_slope}\")\n",
    "print(f\"Pendiente del Borde Descendente: {desc_slope}\")\n",
    "print(f\"Energía del Pulso: {energy}\")\n",
    "print(f\"Simetría del Pulso: {symmetry}\")\n",
    "print(f\"Ancho de Banda: {bandwidth}\")\n",
    "\n",
    "# Visualización\n",
    "plt.plot(xnew, p(xnew), label='Datos interpolados (Pchip)')\n",
    "plt.fill_between(xnew, p(xnew), alpha=0.2, label='Área debajo del pulso')\n",
    "#plt.plot(xnew[start_rise_index:end_rise_index+1], p(xnew)[start_rise_index:end_rise_index+1], 'ro', label='Puntos de pendiente ascendente')\n",
    "#plt.plot(xnew[start_fall_index:end_fall_index+1], p(xnew)[start_fall_index:end_fall_index+1], 'go', label='Puntos de pendiente descendente')\n",
    "plt.plot(xnew, np.ones_like(xnew) * amplitude_value, 'k--', label='Amplitud de Onda')\n",
    "plt.plot(xnew, np.ones_like(xnew) * (amplitude_value * 0.5), 'k--', label='Umbral de Ancho')\n",
    "plt.plot(xnew, np.ones_like(xnew) * (amplitude_value * 0.15), 'k--', label='Umbral de Tiempo de Ascenso')\n",
    "plt.plot(xnew, np.ones_like(xnew) * (amplitude_value * 0.9), 'k--', label='Umbral de Tiempo de Descenso')\n",
    "plt.fill_between(xnew, p(xnew), where=(xnew >= xnew[start_rise_index]) & (xnew <= xnew[end_rise_index]), alpha=0.2, color='red')\n",
    "plt.fill_between(xnew, p(xnew), where=(xnew >= xnew[start_fall_index]) & (xnew <= xnew[end_fall_index]), alpha=0.2, color='green')\n",
    "plt.legend()\n",
    "plt.title(\"Cálculo de características\")\n",
    "plt.xlabel(\"X\")\n",
    "plt.ylabel(\"Y\")\n",
    "plt.show()\n"
   ]
  },
  {
   "cell_type": "markdown",
   "metadata": {},
   "source": [
    "# Otras caracteristicas"
   ]
  },
  {
   "cell_type": "code",
   "execution_count": 39,
   "metadata": {},
   "outputs": [],
   "source": [
    "## curvatura maxima\n",
    "def max_curvature(x, y):\n",
    "    # Calculate the first derivative\n",
    "    dy = np.gradient(y, x)\n",
    "    \n",
    "    # Calculate the second derivative\n",
    "    d2y = np.gradient(dy, x)\n",
    "    \n",
    "    # Calculate curvature\n",
    "    curvature = np.abs(d2y) / (1 + dy**2)**(3/2)\n",
    "    \n",
    "    # Find the maximum curvature\n",
    "    max_curvature_index = np.argmax(curvature)\n",
    "    \n",
    "    return curvature[max_curvature_index], max_curvature_index"
   ]
  },
  {
   "cell_type": "code",
   "execution_count": 40,
   "metadata": {},
   "outputs": [],
   "source": [
    "## centro de masa\n",
    "def center_of_mass(x, y):\n",
    "    # Calculate the center of mass\n",
    "    total_area = np.trapezoid(y, x)\n",
    "    x_center = np.trapezoid(x * y, x) / total_area\n",
    "    y_center = np.trapezoid(y * y, x) / total_area\n",
    "    \n",
    "    return x_center, y_center"
   ]
  },
  {
   "cell_type": "code",
   "execution_count": 41,
   "metadata": {},
   "outputs": [],
   "source": [
    "## media promedio de valores dentro del pulso, mean\n",
    "def mean_within_pulse(x, y, start_index, end_index):\n",
    "    # Calculate the mean of the values within the pulse\n",
    "    mean_value = np.mean(y[start_index:end_index+1])\n",
    "    return mean_value\n",
    "\n",
    "## mediana valor medio del pulso, median\n",
    "def median_within_pulse(x, y, start_index, end_index):\n",
    "    # Calculate the median of the values within the pulse\n",
    "    median_value = np.median(y[start_index:end_index+1])\n",
    "    return median_value\n",
    "\n",
    "## desviación estándar\n",
    "def std_within_pulse(x, y, start_index, end_index):\n",
    "    # Calculate the standard deviation of the values within the pulse\n",
    "    std_value = np.std(y[start_index:end_index+1])\n",
    "    return std_value\n",
    "\n",
    "## skewness\n",
    "def skewness_within_pulse(x, y, start_index, end_index):\n",
    "    # Calculate the skewness of the values within the pulse\n",
    "    skewness_value = pd.Series(y[start_index:end_index+1]).skew()\n",
    "    return skewness_value\n",
    "## kurtosis\n",
    "def kurtosis_within_pulse(x, y, start_index, end_index):\n",
    "    # Calculate the kurtosis of the values within the pulse\n",
    "    kurtosis_value = pd.Series(y[start_index:end_index+1]).kurtosis()\n",
    "    return kurtosis_value\n"
   ]
  },
  {
   "cell_type": "code",
   "execution_count": 42,
   "metadata": {},
   "outputs": [],
   "source": [
    "## energia normalizada por el tiempo\n",
    "def normalized_energy_time(x, y):\n",
    "    # Calculate the normalized energy\n",
    "    total_energy = np.trapezoid(y**2, x)\n",
    "    normalized_energy_value = total_energy / (np.trapezoid(y, x)**2)\n",
    "    return normalized_energy_value\n",
    "\n",
    "## indice de impulsividad amplitud rms\n",
    "def impulsivity_index_amplitude(x, y):\n",
    "    # Calculate the impulsivity index\n",
    "    rms_value = np.sqrt(np.mean(y**2))\n",
    "    mean_value = np.mean(y)\n",
    "    impulsivity_index_value = rms_value / mean_value\n",
    "    return impulsivity_index_value\n",
    "\n",
    "## altura ancho \n",
    "def height_width_ratio(x, y, start_index, end_index):\n",
    "    # Calculate the height-width ratio\n",
    "    height = np.max(y[start_index:end_index+1]) - np.min(y[start_index:end_index+1])\n",
    "    width = end_index - start_index\n",
    "    height_width_ratio_value = height / width\n",
    "    return height_width_ratio_value\n",
    "\n",
    "## area energia\n",
    "def area_energy_ratio(x, y, start_index, end_index):\n",
    "    # Calculate the area-energy ratio\n",
    "    area_value = np.trapezoid(y[start_index:end_index+1], x[start_index:end_index+1])\n",
    "    energy_value = np.trapezoid(y**2, x)\n",
    "    area_energy_ratio_value = area_value / energy_value\n",
    "    return area_energy_ratio_value\n"
   ]
  },
  {
   "cell_type": "code",
   "execution_count": 43,
   "metadata": {},
   "outputs": [],
   "source": [
    "## frecuencia dominante\n",
    "def dominant_frequency(xf, power_spectrum):\n",
    "    # Find the dominant frequency\n",
    "    dominant_freq_index = np.argmax(power_spectrum)\n",
    "    dominant_frequency_value = xf[dominant_freq_index]\n",
    "    return dominant_frequency_value\n",
    "\n",
    "## ancho de banda relativo\n",
    "def relative_bandwidth(power_spectrum, total_power):\n",
    "    # Calculate the relative bandwidth\n",
    "    relative_bandwidth_value = np.sum(power_spectrum[power_spectrum > 0.1 * total_power]) / total_power\n",
    "    return relative_bandwidth_value\n",
    "\n",
    "## potencia total\n",
    "def total_power(power_spectrum):\n",
    "    # Calculate the total power\n",
    "    total_power_value = np.sum(power_spectrum)\n",
    "    return total_power_value\n",
    "\n",
    "## relacion espectral\n",
    "def spectral_ratio(power_spectrum):\n",
    "    # Calculate the spectral ratio\n",
    "    spectral_ratio_value = np.sum(power_spectrum) / np.sum(power_spectrum**2)\n",
    "    return spectral_ratio_value\n",
    "\n",
    "## funcion para calcular la fft y las caracteristicas relacionadas\n",
    "def calculate_fft_features(x, y):\n",
    "    # Perform FFT\n",
    "    N = len(y)\n",
    "    T = x[1] - x[0]  # Sampling interval\n",
    "    yf = fft(y)\n",
    "    xf = fftfreq(N, T)[:N//2]\n",
    "\n",
    "    # Calculate power spectrum\n",
    "    power_spectrum = 2.0/N * np.abs(yf[:N//2])\n",
    "\n",
    "    # Calculate FFT-related features\n",
    "    total_power_value = total_power(power_spectrum)\n",
    "    dominant_frequency_value = dominant_frequency(xf, power_spectrum)\n",
    "    relative_bandwidth_value = relative_bandwidth(power_spectrum, total_power_value)\n",
    "    spectral_ratio_value = spectral_ratio(power_spectrum)\n",
    "\n",
    "    fft_features = {\n",
    "        \"total_power\": total_power_value,\n",
    "        \"dominant_frequency\": dominant_frequency_value,\n",
    "        \"relative_bandwidth\": relative_bandwidth_value,\n",
    "        \"spectral_ratio\": spectral_ratio_value\n",
    "    }\n",
    "\n",
    "    return fft_features\n"
   ]
  },
  {
   "cell_type": "code",
   "execution_count": 44,
   "metadata": {},
   "outputs": [],
   "source": [
    "## coeficiente wavelet\n",
    "def wavelet_coefficient(x, y):\n",
    "    # Calculate the wavelet coefficient\n",
    "    coeffs = pywt.wavedec(y, 'haar')\n",
    "    wavelet_coefficient_value = np.sum(np.abs(coeffs[0]))\n",
    "    return wavelet_coefficient_value\n",
    "\n",
    "## pca de la forma del pulso\n",
    "def pca_pulse_shape(x, y):\n",
    "    # Reshape the data for PCA\n",
    "    data = np.vstack((x, y)).T\n",
    "    pca = PCA(n_components=1)\n",
    "    pca.fit(data)\n",
    "    pca_value = pca.explained_variance_ratio_[0]\n",
    "    return pca_value\n"
   ]
  },
  {
   "cell_type": "code",
   "execution_count": 45,
   "metadata": {},
   "outputs": [
    {
     "name": "stdout",
     "output_type": "stream",
     "text": [
      "Nuevas Características:\n",
      "max_curvature: 5.442111225045291\n",
      "center_of_mass: (np.float64(1.9143150143123826), np.float64(0.7755353448652803))\n",
      "mean: 0.5968130292454616\n",
      "median: 0.6283761238716192\n",
      "std: 0.2184352495363758\n",
      "skewness: -0.3548822140221634\n",
      "kurtosis: -1.092082250991909\n",
      "normalized_energy: 0.6647660537792627\n",
      "impulsivity_index: 3.159346812074911\n",
      "height_width_ratio: 0.01830659488317146\n",
      "area_energy_ratio: 0.3971501870445493\n",
      "FFT Características:\n",
      "total_power: 1.2379942832279904\n",
      "dominant_frequency: 0.0\n",
      "relative_bandwidth: 0.47777644044302764\n",
      "spectral_ratio: 9.337144787131376\n",
      "Coeficiente Wavelet: 3.4337763888775195\n",
      "PCA Valor: 0.9978635712569545\n"
     ]
    }
   ],
   "source": [
    "## calculo de nuevas caracteristicas\n",
    "def calculate_new_features(x, y):\n",
    "    # Calculate new features\n",
    "    max_curvature_value, max_curvature_index = max_curvature(x, y)\n",
    "    center_of_mass_x, center_of_mass_y = center_of_mass(x, y)\n",
    "    mean_value = mean_within_pulse(x, y, start_rise_index, end_rise_index)\n",
    "    median_value = median_within_pulse(x, y, start_rise_index, end_rise_index)\n",
    "    std_value = std_within_pulse(x, y, start_rise_index, end_rise_index)\n",
    "    skewness_value = skewness_within_pulse(x, y, start_rise_index, end_rise_index)\n",
    "    kurtosis_value = kurtosis_within_pulse(x, y, start_rise_index, end_rise_index)\n",
    "    normalized_energy_value = normalized_energy_time(x, y)\n",
    "    impulsivity_index_value = impulsivity_index_amplitude(x, y)\n",
    "    height_width_ratio_value = height_width_ratio(x, y, start_rise_index, end_rise_index)\n",
    "    area_energy_ratio_value = area_energy_ratio(x, y, start_rise_index, end_rise_index)\n",
    "\n",
    "    new_features = {\n",
    "        \"max_curvature\": max_curvature_value,\n",
    "        \"center_of_mass\": (center_of_mass_x, center_of_mass_y),\n",
    "        \"mean\": mean_value,\n",
    "        \"median\": median_value,\n",
    "        \"std\": std_value,\n",
    "        \"skewness\": skewness_value,\n",
    "        \"kurtosis\": kurtosis_value,\n",
    "        \"normalized_energy\": normalized_energy_value,\n",
    "        \"impulsivity_index\": impulsivity_index_value,\n",
    "        \"height_width_ratio\": height_width_ratio_value,\n",
    "        \"area_energy_ratio\": area_energy_ratio_value\n",
    "    }\n",
    "\n",
    "    return new_features\n",
    "## calcular todas las nuevas caracteristicas\n",
    "new_features = calculate_new_features(xnew, p(xnew))\n",
    "## calcular las caracteristicas fft\n",
    "fft_features = calculate_fft_features(xnew, p(xnew))\n",
    "## calcular el coeficiente wavelet\n",
    "wavelet_coefficient_value = wavelet_coefficient(xnew, p(xnew))\n",
    "## calcular la pca\n",
    "pca_value = pca_pulse_shape(xnew, p(xnew))\n",
    "## mostrar todas las nuevas caracteristicas\n",
    "print(\"Nuevas Características:\")\n",
    "for feature, value in new_features.items():\n",
    "    print(f\"{feature}: {value}\")\n",
    "print(\"FFT Características:\")\n",
    "for feature, value in fft_features.items():\n",
    "    print(f\"{feature}: {value}\")\n",
    "print(f\"Coeficiente Wavelet: {wavelet_coefficient_value}\")\n",
    "print(f\"PCA Valor: {pca_value}\")"
   ]
  },
  {
   "cell_type": "markdown",
   "metadata": {},
   "source": [
    "## Guardado de Características"
   ]
  },
  {
   "cell_type": "code",
   "execution_count": 39,
   "metadata": {},
   "outputs": [],
   "source": [
    "def calculate_features(x, y):\n",
    "    amplitude_value = amplitude(y)\n",
    "    width_value = width(y, 0.3)\n",
    "    rise_time_value, start_rise_index, end_rise_index = rise_time(y)\n",
    "    fall_time_value, start_fall_index, end_fall_index = fall_time(y)\n",
    "    area_value = area_under_pulse(x, y)\n",
    "    asc_slope = ascending_slope(x, y, start_rise_index, end_rise_index)\n",
    "    desc_slope = descending_slope(x, y, start_fall_index, end_fall_index)\n",
    "    energy = pulse_energy(x, y)\n",
    "    symmetry = pulse_symmetry(y, start_rise_index, end_rise_index, start_fall_index, end_fall_index)\n",
    "    bandwidth, significant_freqs, power_spectrum, xf, yf = calculate_bandwidth(x, y)\n",
    "\n",
    "    features = {\n",
    "        \"amplitude\": amplitude_value,\n",
    "        \"width\": width_value,\n",
    "        \"rise_time\": rise_time_value,\n",
    "        \"fall_time\": fall_time_value,\n",
    "        \"area\": area_value,\n",
    "        \"ascending_slope\": asc_slope,\n",
    "        \"descending_slope\": desc_slope,\n",
    "        \"energy\": energy,\n",
    "        \"symmetry\": symmetry,\n",
    "        \"bandwidth\": bandwidth\n",
    "    }\n",
    "\n",
    "    return features\n",
    "\n",
    "# # Interpolate and calculate features for each row\n",
    "# features_list = []\n",
    "# for index, row in data.head(1000).iterrows():\n",
    "# #for index, row in data.iterrows():\n",
    "#     y = row.values[1:]  # Skip the first column which is likely an index\n",
    "#     x = np.arange(1, len(y) + 1)\n",
    "    \n",
    "#     mask = ~np.isnan(y)\n",
    "#     p = PchipInterpolator(x[mask], y[mask])\n",
    "#     xnew = np.linspace(1, len(y), num=1000)\n",
    "#     ynew = p(xnew)\n",
    "    \n",
    "#     features = calculate_features(xnew, ynew)\n",
    "#     features_list.append(features)\n",
    "\n",
    "# # Convert the list of features to a DataFrame\n",
    "# features_df = pd.DataFrame(features_list)\n",
    "# features_df.to_csv(\"features.csv\", index=False)"
   ]
  },
  {
   "cell_type": "code",
   "execution_count": 40,
   "metadata": {},
   "outputs": [
    {
     "name": "stdout",
     "output_type": "stream",
     "text": [
      "Features saved to: /home/agustin/Documentos/Tesis/datos/40mhz/brc-2002_086400-01-output_features.csv.gz\n",
      "Features saved to: /home/agustin/Documentos/Tesis/datos/40mhz/brc-2002_086400-21-output_features.csv.gz\n",
      "Features saved to: /home/agustin/Documentos/Tesis/datos/40mhz/brc-2002_086400-17-output_features.csv.gz\n",
      "Features saved to: /home/agustin/Documentos/Tesis/datos/40mhz/brc-2002_086400-20-output_features.csv.gz\n",
      "Features saved to: /home/agustin/Documentos/Tesis/datos/40mhz/brc-2002_086400-14-output_features.csv.gz\n",
      "Features saved to: /home/agustin/Documentos/Tesis/datos/40mhz/brc-2002_086400-19-output_features.csv.gz\n",
      "Features saved to: /home/agustin/Documentos/Tesis/datos/40mhz/brc-2002_086400-22-output_features.csv.gz\n",
      "Features saved to: /home/agustin/Documentos/Tesis/datos/40mhz/brc-2002_086400-16-output_features.csv.gz\n",
      "Features saved to: /home/agustin/Documentos/Tesis/datos/40mhz/brc-2002_086400-11-output_features.csv.gz\n",
      "Features saved to: /home/agustin/Documentos/Tesis/datos/40mhz/brc-2002_086400-23-output_features.csv.gz\n",
      "Features saved to: /home/agustin/Documentos/Tesis/datos/40mhz/brc-2002_086400-06-output_features.csv.gz\n",
      "Features saved to: /home/agustin/Documentos/Tesis/datos/40mhz/brc-2002_086400-13-output_features.csv.gz\n",
      "Features saved to: /home/agustin/Documentos/Tesis/datos/40mhz/brc-2002_086400-08-output_features.csv.gz\n",
      "Features saved to: /home/agustin/Documentos/Tesis/datos/40mhz/brc-2002_086400-10-output_features.csv.gz\n",
      "Features saved to: /home/agustin/Documentos/Tesis/datos/40mhz/brc-2002_086400-07-output_features.csv.gz\n",
      "Features saved to: /home/agustin/Documentos/Tesis/datos/40mhz/brc-2002_086400-03-output_features.csv.gz\n",
      "Features saved to: /home/agustin/Documentos/Tesis/datos/40mhz/brc-2002_086400-04-output_features.csv.gz\n",
      "Features saved to: /home/agustin/Documentos/Tesis/datos/40mhz/brc-2002_086400-02-output_features.csv.gz\n",
      "Compressed CSV files with features created successfully.\n"
     ]
    }
   ],
   "source": [
    "import os\n",
    "\n",
    "# Get list of all data files in the folder\n",
    "data_files = [f for f in os.listdir(folder) if f.endswith(\"-output.csv.gz\")]\n",
    "\n",
    "# Iterate over each data file, read it, calculate features, and save them as a compressed CSV\n",
    "for data_file in data_files:\n",
    "    # Read the data file\n",
    "    data = pd.read_csv(os.path.join(folder, data_file), compression='gzip')\n",
    "    \n",
    "    # Interpolate and calculate features for each row\n",
    "    features_list = []\n",
    "    for index, row in data.iterrows():\n",
    "        y = row.values[1:]  # Skip the first column which is likely an index\n",
    "        x = np.arange(1, len(y) + 1)\n",
    "        \n",
    "        mask = ~np.isnan(y)\n",
    "        p = PchipInterpolator(x[mask], y[mask])\n",
    "        xnew = np.linspace(1, len(y), num=1000)\n",
    "        ynew = p(xnew)\n",
    "        \n",
    "        features = calculate_features(xnew, ynew)\n",
    "        features_list.append(features)\n",
    "    \n",
    "    # Convert the list of features to a DataFrame\n",
    "    features_df = pd.DataFrame(features_list)\n",
    "    \n",
    "    # Define the output file name\n",
    "    output_file = os.path.join(folder, data_file.replace(\".csv.gz\", \"_features.csv.gz\"))\n",
    "    \n",
    "    # Save the features as a compressed CSV\n",
    "    features_df.to_csv(output_file, index=False, compression='gzip')\n",
    "    print(f\"Features saved to: {output_file}\")\n",
    "\n",
    "print(\"Compressed CSV files with features created successfully.\")"
   ]
  }
 ],
 "metadata": {
  "kernelspec": {
   "display_name": "tesis",
   "language": "python",
   "name": "python3"
  },
  "language_info": {
   "codemirror_mode": {
    "name": "ipython",
    "version": 3
   },
   "file_extension": ".py",
   "mimetype": "text/x-python",
   "name": "python",
   "nbconvert_exporter": "python",
   "pygments_lexer": "ipython3",
   "version": "3.13.0"
  }
 },
 "nbformat": 4,
 "nbformat_minor": 2
}
